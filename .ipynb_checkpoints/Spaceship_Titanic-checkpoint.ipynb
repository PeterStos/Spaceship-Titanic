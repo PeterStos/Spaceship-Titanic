{
 "cells": [
  {
   "cell_type": "markdown",
   "id": "b4f44be8",
   "metadata": {},
   "source": [
    "# Spaceship Titanic"
   ]
  },
  {
   "cell_type": "markdown",
   "id": "047b0ede",
   "metadata": {},
   "source": [
    "## Load libraries"
   ]
  },
  {
   "cell_type": "code",
   "execution_count": 1,
   "id": "c5ea07e8",
   "metadata": {},
   "outputs": [],
   "source": [
    "import numpy as np\n",
    "import pandas as pd\n",
    "pd.set_option('display.max_columns', None)\n",
    "pd.set_option('display.max_rows', None) \n",
    "\n",
    "from termcolor import colored\n",
    "import pylab\n",
    "from sklearn.impute import SimpleImputer\n",
    "from sklearn.model_selection import train_test_split\n",
    "from sklearn.ensemble import RandomForestRegressor\n",
    "from sklearn.metrics import mean_absolute_error\n",
    "\n",
    "# To plot nice figures\n",
    "%matplotlib inline\n",
    "import matplotlib as mpl\n",
    "import matplotlib.pyplot as plt\n",
    "mpl.rc('axes', labelsize=14)\n",
    "mpl.rc('xtick', labelsize=12)\n",
    "mpl.rc('ytick', labelsize=12)\n",
    "\n",
    "# sklearn tools and models\n",
    "from sklearn.model_selection import GridSearchCV, RandomizedSearchCV\n",
    "from sklearn.ensemble import RandomForestClassifier\n",
    "from sklearn.metrics import accuracy_score, confusion_matrix, classification_report"
   ]
  },
  {
   "cell_type": "markdown",
   "id": "7a8b21d5",
   "metadata": {},
   "source": [
    "## Getting data"
   ]
  },
  {
   "cell_type": "code",
   "execution_count": 2,
   "id": "b224cf0c",
   "metadata": {},
   "outputs": [],
   "source": [
    "# Full test and train dataset\n",
    "train = pd.read_csv(\"./data/train.csv\")\n",
    "test = pd.read_csv(\"./data/test.csv\")\n",
    "\n",
    "# Copy\n",
    "train_df = train\n",
    "test_df = test"
   ]
  },
  {
   "cell_type": "markdown",
   "id": "bb0605c6",
   "metadata": {},
   "source": [
    "## Functions"
   ]
  },
  {
   "cell_type": "markdown",
   "id": "f7be2137",
   "metadata": {},
   "source": [
    "##### Quick look function"
   ]
  },
  {
   "cell_type": "code",
   "execution_count": 3,
   "id": "0c89f8b3",
   "metadata": {},
   "outputs": [],
   "source": [
    "# Function to print main info about the dataset\n",
    "def quick_look(df):\n",
    "    print(colored('SIZE' , 'blue', attrs=['bold', 'dark']))\n",
    "    print(df.size)\n",
    "    print(colored('\\nSHAPE' , 'blue', attrs=['bold', 'dark']))\n",
    "    print(df.shape)\n",
    "    print(colored('\\nINFO' , 'blue', attrs=['bold', 'dark']))\n",
    "    print(df.info())\n",
    "    print(colored('\\nNULL VALUES' , 'blue', attrs=['bold', 'dark']))\n",
    "    print(df.isnull().sum())\n",
    "    print(colored('\\nHEAD' , 'blue', attrs=['bold', 'dark']))\n",
    "    print(df.head())\n",
    "    print(colored('\\nDESCRIBE - Numerical' , 'blue', attrs=['bold', 'dark']))\n",
    "    print(df.describe())\n",
    "    print(colored('\\nDESCRIBE - Categorical' , 'blue', attrs=['bold', 'dark']))\n",
    "    print(df.describe(include='object'))\n",
    "    print(colored('\\nUNIQUE ENTRIES IN EACH CATEGORICAL COLUMN' , 'blue', attrs=['bold', 'dark']))\n",
    "    # Get number of unique entries in each column with categorical data\n",
    "    object_cols = [col for col in df.columns if df[col].dtype == \"object\"]\n",
    "    object_nunique = list(map(lambda col: df[col].nunique(), object_cols))\n",
    "    d = dict(zip(object_cols, object_nunique))\n",
    "    # Print number of unique entries by column, in ascending order\n",
    "    print(sorted(d.items(), key=lambda x: x[1]))"
   ]
  },
  {
   "cell_type": "markdown",
   "id": "4f1c3a0b",
   "metadata": {},
   "source": [
    "## Data Analisys and Statistics"
   ]
  },
  {
   "cell_type": "markdown",
   "id": "aa4d15c9",
   "metadata": {},
   "source": [
    "##### Train data"
   ]
  },
  {
   "cell_type": "code",
   "execution_count": 4,
   "id": "2d136daf",
   "metadata": {},
   "outputs": [
    {
     "name": "stdout",
     "output_type": "stream",
     "text": [
      "\u001b[2m\u001b[1m\u001b[34mSIZE\u001b[0m\n",
      "121702\n",
      "\u001b[2m\u001b[1m\u001b[34m\n",
      "SHAPE\u001b[0m\n",
      "(8693, 14)\n",
      "\u001b[2m\u001b[1m\u001b[34m\n",
      "INFO\u001b[0m\n",
      "<class 'pandas.core.frame.DataFrame'>\n",
      "RangeIndex: 8693 entries, 0 to 8692\n",
      "Data columns (total 14 columns):\n",
      " #   Column        Non-Null Count  Dtype  \n",
      "---  ------        --------------  -----  \n",
      " 0   PassengerId   8693 non-null   object \n",
      " 1   HomePlanet    8492 non-null   object \n",
      " 2   CryoSleep     8476 non-null   object \n",
      " 3   Cabin         8494 non-null   object \n",
      " 4   Destination   8511 non-null   object \n",
      " 5   Age           8514 non-null   float64\n",
      " 6   VIP           8490 non-null   object \n",
      " 7   RoomService   8512 non-null   float64\n",
      " 8   FoodCourt     8510 non-null   float64\n",
      " 9   ShoppingMall  8485 non-null   float64\n",
      " 10  Spa           8510 non-null   float64\n",
      " 11  VRDeck        8505 non-null   float64\n",
      " 12  Name          8493 non-null   object \n",
      " 13  Transported   8693 non-null   bool   \n",
      "dtypes: bool(1), float64(6), object(7)\n",
      "memory usage: 891.5+ KB\n",
      "None\n",
      "\u001b[2m\u001b[1m\u001b[34m\n",
      "NULL VALUES\u001b[0m\n",
      "PassengerId       0\n",
      "HomePlanet      201\n",
      "CryoSleep       217\n",
      "Cabin           199\n",
      "Destination     182\n",
      "Age             179\n",
      "VIP             203\n",
      "RoomService     181\n",
      "FoodCourt       183\n",
      "ShoppingMall    208\n",
      "Spa             183\n",
      "VRDeck          188\n",
      "Name            200\n",
      "Transported       0\n",
      "dtype: int64\n",
      "\u001b[2m\u001b[1m\u001b[34m\n",
      "HEAD\u001b[0m\n",
      "  PassengerId HomePlanet CryoSleep  Cabin  Destination   Age    VIP  \\\n",
      "0     0001_01     Europa     False  B/0/P  TRAPPIST-1e  39.0  False   \n",
      "1     0002_01      Earth     False  F/0/S  TRAPPIST-1e  24.0  False   \n",
      "2     0003_01     Europa     False  A/0/S  TRAPPIST-1e  58.0   True   \n",
      "3     0003_02     Europa     False  A/0/S  TRAPPIST-1e  33.0  False   \n",
      "4     0004_01      Earth     False  F/1/S  TRAPPIST-1e  16.0  False   \n",
      "\n",
      "   RoomService  FoodCourt  ShoppingMall     Spa  VRDeck               Name  \\\n",
      "0          0.0        0.0           0.0     0.0     0.0    Maham Ofracculy   \n",
      "1        109.0        9.0          25.0   549.0    44.0       Juanna Vines   \n",
      "2         43.0     3576.0           0.0  6715.0    49.0      Altark Susent   \n",
      "3          0.0     1283.0         371.0  3329.0   193.0       Solam Susent   \n",
      "4        303.0       70.0         151.0   565.0     2.0  Willy Santantines   \n",
      "\n",
      "   Transported  \n",
      "0        False  \n",
      "1         True  \n",
      "2        False  \n",
      "3        False  \n",
      "4         True  \n",
      "\u001b[2m\u001b[1m\u001b[34m\n",
      "DESCRIBE - Numerical\u001b[0m\n",
      "               Age   RoomService     FoodCourt  ShoppingMall           Spa  \\\n",
      "count  8514.000000   8512.000000   8510.000000   8485.000000   8510.000000   \n",
      "mean     28.827930    224.687617    458.077203    173.729169    311.138778   \n",
      "std      14.489021    666.717663   1611.489240    604.696458   1136.705535   \n",
      "min       0.000000      0.000000      0.000000      0.000000      0.000000   \n",
      "25%      19.000000      0.000000      0.000000      0.000000      0.000000   \n",
      "50%      27.000000      0.000000      0.000000      0.000000      0.000000   \n",
      "75%      38.000000     47.000000     76.000000     27.000000     59.000000   \n",
      "max      79.000000  14327.000000  29813.000000  23492.000000  22408.000000   \n",
      "\n",
      "             VRDeck  \n",
      "count   8505.000000  \n",
      "mean     304.854791  \n",
      "std     1145.717189  \n",
      "min        0.000000  \n",
      "25%        0.000000  \n",
      "50%        0.000000  \n",
      "75%       46.000000  \n",
      "max    24133.000000  \n",
      "\u001b[2m\u001b[1m\u001b[34m\n",
      "DESCRIBE - Categorical\u001b[0m\n",
      "       PassengerId HomePlanet CryoSleep    Cabin  Destination    VIP  \\\n",
      "count         8693       8492      8476     8494         8511   8490   \n",
      "unique        8693          3         2     6560            3      2   \n",
      "top        0001_01      Earth     False  G/734/S  TRAPPIST-1e  False   \n",
      "freq             1       4602      5439        8         5915   8291   \n",
      "\n",
      "                  Name  \n",
      "count             8493  \n",
      "unique            8473  \n",
      "top     Gollux Reedall  \n",
      "freq                 2  \n",
      "\u001b[2m\u001b[1m\u001b[34m\n",
      "UNIQUE ENTRIES IN EACH CATEGORICAL COLUMN\u001b[0m\n",
      "[('CryoSleep', 2), ('VIP', 2), ('HomePlanet', 3), ('Destination', 3), ('Cabin', 6560), ('Name', 8473), ('PassengerId', 8693)]\n"
     ]
    }
   ],
   "source": [
    "quick_look(train_df)"
   ]
  },
  {
   "cell_type": "markdown",
   "id": "e8780ea6",
   "metadata": {},
   "source": [
    "##### Test data"
   ]
  },
  {
   "cell_type": "code",
   "execution_count": 5,
   "id": "64d6be11",
   "metadata": {},
   "outputs": [
    {
     "name": "stdout",
     "output_type": "stream",
     "text": [
      "\u001b[2m\u001b[1m\u001b[34mSIZE\u001b[0m\n",
      "55601\n",
      "\u001b[2m\u001b[1m\u001b[34m\n",
      "SHAPE\u001b[0m\n",
      "(4277, 13)\n",
      "\u001b[2m\u001b[1m\u001b[34m\n",
      "INFO\u001b[0m\n",
      "<class 'pandas.core.frame.DataFrame'>\n",
      "RangeIndex: 4277 entries, 0 to 4276\n",
      "Data columns (total 13 columns):\n",
      " #   Column        Non-Null Count  Dtype  \n",
      "---  ------        --------------  -----  \n",
      " 0   PassengerId   4277 non-null   object \n",
      " 1   HomePlanet    4190 non-null   object \n",
      " 2   CryoSleep     4184 non-null   object \n",
      " 3   Cabin         4177 non-null   object \n",
      " 4   Destination   4185 non-null   object \n",
      " 5   Age           4186 non-null   float64\n",
      " 6   VIP           4184 non-null   object \n",
      " 7   RoomService   4195 non-null   float64\n",
      " 8   FoodCourt     4171 non-null   float64\n",
      " 9   ShoppingMall  4179 non-null   float64\n",
      " 10  Spa           4176 non-null   float64\n",
      " 11  VRDeck        4197 non-null   float64\n",
      " 12  Name          4183 non-null   object \n",
      "dtypes: float64(6), object(7)\n",
      "memory usage: 434.5+ KB\n",
      "None\n",
      "\u001b[2m\u001b[1m\u001b[34m\n",
      "NULL VALUES\u001b[0m\n",
      "PassengerId       0\n",
      "HomePlanet       87\n",
      "CryoSleep        93\n",
      "Cabin           100\n",
      "Destination      92\n",
      "Age              91\n",
      "VIP              93\n",
      "RoomService      82\n",
      "FoodCourt       106\n",
      "ShoppingMall     98\n",
      "Spa             101\n",
      "VRDeck           80\n",
      "Name             94\n",
      "dtype: int64\n",
      "\u001b[2m\u001b[1m\u001b[34m\n",
      "HEAD\u001b[0m\n",
      "  PassengerId HomePlanet CryoSleep  Cabin  Destination   Age    VIP  \\\n",
      "0     0013_01      Earth      True  G/3/S  TRAPPIST-1e  27.0  False   \n",
      "1     0018_01      Earth     False  F/4/S  TRAPPIST-1e  19.0  False   \n",
      "2     0019_01     Europa      True  C/0/S  55 Cancri e  31.0  False   \n",
      "3     0021_01     Europa     False  C/1/S  TRAPPIST-1e  38.0  False   \n",
      "4     0023_01      Earth     False  F/5/S  TRAPPIST-1e  20.0  False   \n",
      "\n",
      "   RoomService  FoodCourt  ShoppingMall     Spa  VRDeck              Name  \n",
      "0          0.0        0.0           0.0     0.0     0.0   Nelly Carsoning  \n",
      "1          0.0        9.0           0.0  2823.0     0.0    Lerome Peckers  \n",
      "2          0.0        0.0           0.0     0.0     0.0   Sabih Unhearfus  \n",
      "3          0.0     6652.0           0.0   181.0   585.0  Meratz Caltilter  \n",
      "4         10.0        0.0         635.0     0.0     0.0   Brence Harperez  \n",
      "\u001b[2m\u001b[1m\u001b[34m\n",
      "DESCRIBE - Numerical\u001b[0m\n",
      "               Age   RoomService     FoodCourt  ShoppingMall           Spa  \\\n",
      "count  4186.000000   4195.000000   4171.000000   4179.000000   4176.000000   \n",
      "mean     28.658146    219.266269    439.484296    177.295525    303.052443   \n",
      "std      14.179072    607.011289   1527.663045    560.821123   1117.186015   \n",
      "min       0.000000      0.000000      0.000000      0.000000      0.000000   \n",
      "25%      19.000000      0.000000      0.000000      0.000000      0.000000   \n",
      "50%      26.000000      0.000000      0.000000      0.000000      0.000000   \n",
      "75%      37.000000     53.000000     78.000000     33.000000     50.000000   \n",
      "max      79.000000  11567.000000  25273.000000   8292.000000  19844.000000   \n",
      "\n",
      "             VRDeck  \n",
      "count   4197.000000  \n",
      "mean     310.710031  \n",
      "std     1246.994742  \n",
      "min        0.000000  \n",
      "25%        0.000000  \n",
      "50%        0.000000  \n",
      "75%       36.000000  \n",
      "max    22272.000000  \n",
      "\u001b[2m\u001b[1m\u001b[34m\n",
      "DESCRIBE - Categorical\u001b[0m\n",
      "       PassengerId HomePlanet CryoSleep    Cabin  Destination    VIP  \\\n",
      "count         4277       4190      4184     4177         4185   4184   \n",
      "unique        4277          3         2     3265            3      2   \n",
      "top        0013_01      Earth     False  G/160/P  TRAPPIST-1e  False   \n",
      "freq             1       2263      2640        8         2956   4110   \n",
      "\n",
      "              Name  \n",
      "count         4183  \n",
      "unique        4176  \n",
      "top     Cints Erle  \n",
      "freq             2  \n",
      "\u001b[2m\u001b[1m\u001b[34m\n",
      "UNIQUE ENTRIES IN EACH CATEGORICAL COLUMN\u001b[0m\n",
      "[('CryoSleep', 2), ('VIP', 2), ('HomePlanet', 3), ('Destination', 3), ('Cabin', 3265), ('Name', 4176), ('PassengerId', 4277)]\n"
     ]
    }
   ],
   "source": [
    "quick_look(test_df)"
   ]
  },
  {
   "cell_type": "markdown",
   "id": "d6dd99ec",
   "metadata": {},
   "source": [
    "### Data Processing"
   ]
  },
  {
   "cell_type": "markdown",
   "id": "2ebf928a",
   "metadata": {},
   "source": [
    "#### Summary\n",
    "\n",
    "- PassengerId: parse into Passenger_Group, Passenger_Num, and Group_Size\n",
    "- HomePlanet: impute most frequent and convert to categorical\n",
    "- CryoSleep: impute most frequent; convert to boolean\n",
    "- Cabin: Fill missing values with 'Z/99999/Z' and parse into new Cabin_Deck, Cabin_Num, and Cabin_Side features\n",
    "- Destination: impute most frequent and convert to categorical\n",
    "- Age: Impute median value\n",
    "- VIP: Impute most frequent and convert to boolean\n",
    "- RoomService: Impute median value\n",
    "- FoodCourt: Impute median value\n",
    "- ShoppingMall: Impute median value\n",
    "- Spa: Impute median value\n",
    "- VRDeck: Impute median value\n",
    "- Name: impute 'NoFirstName NoLastName'\n",
    "- Transported: converted to Boolean; train data only"
   ]
  },
  {
   "cell_type": "markdown",
   "id": "3aa0e1d3",
   "metadata": {},
   "source": [
    "#### Joining Train and Test"
   ]
  },
  {
   "cell_type": "code",
   "execution_count": 6,
   "id": "652a9dc5",
   "metadata": {},
   "outputs": [],
   "source": [
    "# combine into a single list\n",
    "full_data = [train_df, test_df]"
   ]
  },
  {
   "cell_type": "markdown",
   "id": "fe7962fa",
   "metadata": {},
   "source": [
    "#### Missing values"
   ]
  },
  {
   "cell_type": "code",
   "execution_count": 7,
   "id": "002a7ec5",
   "metadata": {},
   "outputs": [],
   "source": [
    "# convert Transported to boolean; only in train_df \n",
    "train_df['Transported'] = train_df['Transported'].astype(bool)\n",
    "\n",
    "# format bulk of data sets \n",
    "for df in full_data:\n",
    "\n",
    "    # IMPUTE MISSING VALUES \n",
    "    df['Name'].fillna('NoFirstName NoSurname', inplace=True)\n",
    "    df['HomePlanet'].fillna(df['HomePlanet'].value_counts().index[0], inplace=True)\n",
    "    df['CryoSleep'].fillna(df['CryoSleep'].value_counts().index[0], inplace=True)\n",
    "    df['Cabin'].fillna('Z/99999/Z', inplace=True)\n",
    "    df['Destination'].fillna(df['Destination'].value_counts().index[0], inplace=True)\n",
    "    df['VIP'].fillna(df['VIP'].value_counts().index[0], inplace=True)\n",
    "    df['Age'].fillna(df['Age'].median(), inplace=True)\n",
    "    df['RoomService'].fillna(df['RoomService'].median(), inplace=True)\n",
    "    df['FoodCourt'].fillna(df['FoodCourt'].median(), inplace=True)\n",
    "    df['ShoppingMall'].fillna(df['ShoppingMall'].median(), inplace=True)\n",
    "    df['Spa'].fillna(df['Spa'].median(), inplace=True)\n",
    "    df['VRDeck'].fillna(df['VRDeck'].median(), inplace=True)\n",
    "    \n",
    "    # Split columns to create features \n",
    "    df['Passenger_Group'] = df['PassengerId'].apply(lambda x: x.split('_')[0]).astype(str)\n",
    "    df['Passenger_Num'] = df['PassengerId'].apply(lambda x: x.split('_')[1]).astype(str)\n",
    "    df['Cabin_Deck'] = df['Cabin'].apply(lambda x: x.split('/')[0]).astype(str)\n",
    "    df['Cabin_Num'] = df['Cabin'].apply(lambda x: x.split('/')[1]).astype(str)\n",
    "    df['Cabin_Side'] = df['Cabin'].apply(lambda x: x.split('/')[2]).astype(str) \n",
    "\n",
    "    # FORMAT DATA TYPES \n",
    "    df['HomePlanet'] = df['HomePlanet'].astype('category')\n",
    "    df['CryoSleep'] = df['CryoSleep'].astype('bool')\n",
    "    df['Cabin_Deck'] = df['Cabin_Deck'].astype('category')\n",
    "    df['Cabin_Side'] = df['Cabin_Side'].astype('category')\n",
    "    df['Destination'] = df['Destination'].astype('category')"
   ]
  },
  {
   "cell_type": "code",
   "execution_count": 8,
   "id": "d0902137",
   "metadata": {},
   "outputs": [],
   "source": [
    "# use completed features to generate new features - Crete Group_Size based on Passenger_Group\n",
    "for df in full_data:\n",
    "    df['Group_Size'] = df['Passenger_Group'].map(lambda x: pd.concat([train_df['Passenger_Group'], test_df['Passenger_Group']]).value_counts()[x])"
   ]
  },
  {
   "cell_type": "code",
   "execution_count": 9,
   "id": "5593c3e5",
   "metadata": {},
   "outputs": [
    {
     "name": "stdout",
     "output_type": "stream",
     "text": [
      "\u001b[2m\u001b[1m\u001b[34mSIZE\u001b[0m\n",
      "173860\n",
      "\u001b[2m\u001b[1m\u001b[34m\n",
      "SHAPE\u001b[0m\n",
      "(8693, 20)\n",
      "\u001b[2m\u001b[1m\u001b[34m\n",
      "INFO\u001b[0m\n",
      "<class 'pandas.core.frame.DataFrame'>\n",
      "RangeIndex: 8693 entries, 0 to 8692\n",
      "Data columns (total 20 columns):\n",
      " #   Column           Non-Null Count  Dtype   \n",
      "---  ------           --------------  -----   \n",
      " 0   PassengerId      8693 non-null   object  \n",
      " 1   HomePlanet       8693 non-null   category\n",
      " 2   CryoSleep        8693 non-null   bool    \n",
      " 3   Cabin            8693 non-null   object  \n",
      " 4   Destination      8693 non-null   category\n",
      " 5   Age              8693 non-null   float64 \n",
      " 6   VIP              8693 non-null   bool    \n",
      " 7   RoomService      8693 non-null   float64 \n",
      " 8   FoodCourt        8693 non-null   float64 \n",
      " 9   ShoppingMall     8693 non-null   float64 \n",
      " 10  Spa              8693 non-null   float64 \n",
      " 11  VRDeck           8693 non-null   float64 \n",
      " 12  Name             8693 non-null   object  \n",
      " 13  Transported      8693 non-null   bool    \n",
      " 14  Passenger_Group  8693 non-null   object  \n",
      " 15  Passenger_Num    8693 non-null   object  \n",
      " 16  Cabin_Deck       8693 non-null   category\n",
      " 17  Cabin_Num        8693 non-null   object  \n",
      " 18  Cabin_Side       8693 non-null   category\n",
      " 19  Group_Size       8693 non-null   int64   \n",
      "dtypes: bool(3), category(4), float64(6), int64(1), object(6)\n",
      "memory usage: 943.2+ KB\n",
      "None\n",
      "\u001b[2m\u001b[1m\u001b[34m\n",
      "NULL VALUES\u001b[0m\n",
      "PassengerId        0\n",
      "HomePlanet         0\n",
      "CryoSleep          0\n",
      "Cabin              0\n",
      "Destination        0\n",
      "Age                0\n",
      "VIP                0\n",
      "RoomService        0\n",
      "FoodCourt          0\n",
      "ShoppingMall       0\n",
      "Spa                0\n",
      "VRDeck             0\n",
      "Name               0\n",
      "Transported        0\n",
      "Passenger_Group    0\n",
      "Passenger_Num      0\n",
      "Cabin_Deck         0\n",
      "Cabin_Num          0\n",
      "Cabin_Side         0\n",
      "Group_Size         0\n",
      "dtype: int64\n",
      "\u001b[2m\u001b[1m\u001b[34m\n",
      "HEAD\u001b[0m\n",
      "  PassengerId HomePlanet  CryoSleep  Cabin  Destination   Age    VIP  \\\n",
      "0     0001_01     Europa      False  B/0/P  TRAPPIST-1e  39.0  False   \n",
      "1     0002_01      Earth      False  F/0/S  TRAPPIST-1e  24.0  False   \n",
      "2     0003_01     Europa      False  A/0/S  TRAPPIST-1e  58.0   True   \n",
      "3     0003_02     Europa      False  A/0/S  TRAPPIST-1e  33.0  False   \n",
      "4     0004_01      Earth      False  F/1/S  TRAPPIST-1e  16.0  False   \n",
      "\n",
      "   RoomService  FoodCourt  ShoppingMall     Spa  VRDeck               Name  \\\n",
      "0          0.0        0.0           0.0     0.0     0.0    Maham Ofracculy   \n",
      "1        109.0        9.0          25.0   549.0    44.0       Juanna Vines   \n",
      "2         43.0     3576.0           0.0  6715.0    49.0      Altark Susent   \n",
      "3          0.0     1283.0         371.0  3329.0   193.0       Solam Susent   \n",
      "4        303.0       70.0         151.0   565.0     2.0  Willy Santantines   \n",
      "\n",
      "   Transported Passenger_Group Passenger_Num Cabin_Deck Cabin_Num Cabin_Side  \\\n",
      "0        False            0001            01          B         0          P   \n",
      "1         True            0002            01          F         0          S   \n",
      "2        False            0003            01          A         0          S   \n",
      "3        False            0003            02          A         0          S   \n",
      "4         True            0004            01          F         1          S   \n",
      "\n",
      "   Group_Size  \n",
      "0           1  \n",
      "1           1  \n",
      "2           2  \n",
      "3           2  \n",
      "4           1  \n",
      "\u001b[2m\u001b[1m\u001b[34m\n",
      "DESCRIBE - Numerical\u001b[0m\n",
      "               Age   RoomService     FoodCourt  ShoppingMall           Spa  \\\n",
      "count  8693.000000   8693.000000   8693.000000   8693.000000   8693.000000   \n",
      "mean     28.790291    220.009318    448.434027    169.572300    304.588865   \n",
      "std      14.341404    660.519050   1595.790627    598.007164   1125.562559   \n",
      "min       0.000000      0.000000      0.000000      0.000000      0.000000   \n",
      "25%      20.000000      0.000000      0.000000      0.000000      0.000000   \n",
      "50%      27.000000      0.000000      0.000000      0.000000      0.000000   \n",
      "75%      37.000000     41.000000     61.000000     22.000000     53.000000   \n",
      "max      79.000000  14327.000000  29813.000000  23492.000000  22408.000000   \n",
      "\n",
      "             VRDeck   Group_Size  \n",
      "count   8693.000000  8693.000000  \n",
      "mean     298.261820     2.035546  \n",
      "std     1134.126417     1.596347  \n",
      "min        0.000000     1.000000  \n",
      "25%        0.000000     1.000000  \n",
      "50%        0.000000     1.000000  \n",
      "75%       40.000000     3.000000  \n",
      "max    24133.000000     8.000000  \n",
      "\u001b[2m\u001b[1m\u001b[34m\n",
      "DESCRIBE - Categorical\u001b[0m\n",
      "       PassengerId      Cabin                   Name Passenger_Group  \\\n",
      "count         8693       8693                   8693            8693   \n",
      "unique        8693       6561                   8474            6217   \n",
      "top        0001_01  Z/99999/Z  NoFirstName NoSurname            4498   \n",
      "freq             1        199                    200               8   \n",
      "\n",
      "       Passenger_Num Cabin_Num  \n",
      "count           8693      8693  \n",
      "unique             8      1818  \n",
      "top               01     99999  \n",
      "freq            6217       199  \n",
      "\u001b[2m\u001b[1m\u001b[34m\n",
      "UNIQUE ENTRIES IN EACH CATEGORICAL COLUMN\u001b[0m\n",
      "[('Passenger_Num', 8), ('Cabin_Num', 1818), ('Passenger_Group', 6217), ('Cabin', 6561), ('Name', 8474), ('PassengerId', 8693)]\n"
     ]
    }
   ],
   "source": [
    "quick_look(train_df)"
   ]
  },
  {
   "cell_type": "code",
   "execution_count": 10,
   "id": "d4c68717",
   "metadata": {},
   "outputs": [
    {
     "name": "stdout",
     "output_type": "stream",
     "text": [
      "\u001b[2m\u001b[1m\u001b[34mSIZE\u001b[0m\n",
      "81263\n",
      "\u001b[2m\u001b[1m\u001b[34m\n",
      "SHAPE\u001b[0m\n",
      "(4277, 19)\n",
      "\u001b[2m\u001b[1m\u001b[34m\n",
      "INFO\u001b[0m\n",
      "<class 'pandas.core.frame.DataFrame'>\n",
      "RangeIndex: 4277 entries, 0 to 4276\n",
      "Data columns (total 19 columns):\n",
      " #   Column           Non-Null Count  Dtype   \n",
      "---  ------           --------------  -----   \n",
      " 0   PassengerId      4277 non-null   object  \n",
      " 1   HomePlanet       4277 non-null   category\n",
      " 2   CryoSleep        4277 non-null   bool    \n",
      " 3   Cabin            4277 non-null   object  \n",
      " 4   Destination      4277 non-null   category\n",
      " 5   Age              4277 non-null   float64 \n",
      " 6   VIP              4277 non-null   bool    \n",
      " 7   RoomService      4277 non-null   float64 \n",
      " 8   FoodCourt        4277 non-null   float64 \n",
      " 9   ShoppingMall     4277 non-null   float64 \n",
      " 10  Spa              4277 non-null   float64 \n",
      " 11  VRDeck           4277 non-null   float64 \n",
      " 12  Name             4277 non-null   object  \n",
      " 13  Passenger_Group  4277 non-null   object  \n",
      " 14  Passenger_Num    4277 non-null   object  \n",
      " 15  Cabin_Deck       4277 non-null   category\n",
      " 16  Cabin_Num        4277 non-null   object  \n",
      " 17  Cabin_Side       4277 non-null   category\n",
      " 18  Group_Size       4277 non-null   int64   \n",
      "dtypes: bool(2), category(4), float64(6), int64(1), object(6)\n",
      "memory usage: 460.3+ KB\n",
      "None\n",
      "\u001b[2m\u001b[1m\u001b[34m\n",
      "NULL VALUES\u001b[0m\n",
      "PassengerId        0\n",
      "HomePlanet         0\n",
      "CryoSleep          0\n",
      "Cabin              0\n",
      "Destination        0\n",
      "Age                0\n",
      "VIP                0\n",
      "RoomService        0\n",
      "FoodCourt          0\n",
      "ShoppingMall       0\n",
      "Spa                0\n",
      "VRDeck             0\n",
      "Name               0\n",
      "Passenger_Group    0\n",
      "Passenger_Num      0\n",
      "Cabin_Deck         0\n",
      "Cabin_Num          0\n",
      "Cabin_Side         0\n",
      "Group_Size         0\n",
      "dtype: int64\n",
      "\u001b[2m\u001b[1m\u001b[34m\n",
      "HEAD\u001b[0m\n",
      "  PassengerId HomePlanet  CryoSleep  Cabin  Destination   Age    VIP  \\\n",
      "0     0013_01      Earth       True  G/3/S  TRAPPIST-1e  27.0  False   \n",
      "1     0018_01      Earth      False  F/4/S  TRAPPIST-1e  19.0  False   \n",
      "2     0019_01     Europa       True  C/0/S  55 Cancri e  31.0  False   \n",
      "3     0021_01     Europa      False  C/1/S  TRAPPIST-1e  38.0  False   \n",
      "4     0023_01      Earth      False  F/5/S  TRAPPIST-1e  20.0  False   \n",
      "\n",
      "   RoomService  FoodCourt  ShoppingMall     Spa  VRDeck              Name  \\\n",
      "0          0.0        0.0           0.0     0.0     0.0   Nelly Carsoning   \n",
      "1          0.0        9.0           0.0  2823.0     0.0    Lerome Peckers   \n",
      "2          0.0        0.0           0.0     0.0     0.0   Sabih Unhearfus   \n",
      "3          0.0     6652.0           0.0   181.0   585.0  Meratz Caltilter   \n",
      "4         10.0        0.0         635.0     0.0     0.0   Brence Harperez   \n",
      "\n",
      "  Passenger_Group Passenger_Num Cabin_Deck Cabin_Num Cabin_Side  Group_Size  \n",
      "0            0013            01          G         3          S           1  \n",
      "1            0018            01          F         4          S           1  \n",
      "2            0019            01          C         0          S           1  \n",
      "3            0021            01          C         1          S           1  \n",
      "4            0023            01          F         5          S           1  \n",
      "\u001b[2m\u001b[1m\u001b[34m\n",
      "DESCRIBE - Numerical\u001b[0m\n",
      "               Age   RoomService     FoodCourt  ShoppingMall           Spa  \\\n",
      "count  4277.000000   4277.000000   4277.000000   4277.000000   4277.000000   \n",
      "mean     28.601590    215.062427    428.592238    173.233107    295.895955   \n",
      "std      14.032629    601.914503   1510.155974    554.991776   1104.872018   \n",
      "min       0.000000      0.000000      0.000000      0.000000      0.000000   \n",
      "25%      20.000000      0.000000      0.000000      0.000000      0.000000   \n",
      "50%      26.000000      0.000000      0.000000      0.000000      0.000000   \n",
      "75%      37.000000     48.000000     66.000000     27.000000     43.000000   \n",
      "max      79.000000  11567.000000  25273.000000   8292.000000  19844.000000   \n",
      "\n",
      "             VRDeck   Group_Size  \n",
      "count   4277.000000  4277.000000  \n",
      "mean     304.898293     1.997428  \n",
      "std     1235.991811     1.537113  \n",
      "min        0.000000     1.000000  \n",
      "25%        0.000000     1.000000  \n",
      "50%        0.000000     1.000000  \n",
      "75%       31.000000     2.000000  \n",
      "max    22272.000000     8.000000  \n",
      "\u001b[2m\u001b[1m\u001b[34m\n",
      "DESCRIBE - Categorical\u001b[0m\n",
      "       PassengerId      Cabin                   Name Passenger_Group  \\\n",
      "count         4277       4277                   4277            4277   \n",
      "unique        4277       3266                   4177            3063   \n",
      "top        0013_01  Z/99999/Z  NoFirstName NoSurname            6332   \n",
      "freq             1        100                     94               8   \n",
      "\n",
      "       Passenger_Num Cabin_Num  \n",
      "count           4277      4277  \n",
      "unique             8      1506  \n",
      "top               01     99999  \n",
      "freq            3063       100  \n",
      "\u001b[2m\u001b[1m\u001b[34m\n",
      "UNIQUE ENTRIES IN EACH CATEGORICAL COLUMN\u001b[0m\n",
      "[('Passenger_Num', 8), ('Cabin_Num', 1506), ('Passenger_Group', 3063), ('Cabin', 3266), ('Name', 4177), ('PassengerId', 4277)]\n"
     ]
    }
   ],
   "source": [
    "quick_look(test_df)"
   ]
  },
  {
   "cell_type": "markdown",
   "id": "78289dfb",
   "metadata": {},
   "source": [
    "### Categorical Analisys"
   ]
  },
  {
   "cell_type": "markdown",
   "id": "df064908",
   "metadata": {},
   "source": [
    "#### Passanger ID\n",
    "Each Id takes the form gggg_pp where gggg indicates a group the passenger is travelling with and pp is their number within the group. People in a group are often family members, but not always.\n",
    "Passanger ID was used to create additional features:\n",
    "- Passenger_Group for each group\n",
    "- Passenger_Num for each group member\n",
    "- Group_Size to count the number of members in each group"
   ]
  },
  {
   "cell_type": "markdown",
   "id": "3f94cbb5",
   "metadata": {},
   "source": [
    "##### Group Size"
   ]
  },
  {
   "cell_type": "code",
   "execution_count": 11,
   "id": "c4e98e2d",
   "metadata": {},
   "outputs": [
    {
     "data": {
      "text/plain": [
       "<AxesSubplot:title={'center':'Group Size - Train'}>"
      ]
     },
     "execution_count": 11,
     "metadata": {},
     "output_type": "execute_result"
    },
    {
     "data": {
      "image/png": "[encoded data removed]",
      "text/plain": [
       "<Figure size 864x216 with 1 Axes>"
      ]
     },
     "metadata": {
      "needs_background": "light"
     },
     "output_type": "display_data"
    }
   ],
   "source": [
    "train_df['Group_Size'].value_counts(normalize=True).sort_values(ascending=True).plot(kind='barh', \n",
    "        figsize=(12,3),\n",
    "        title='Group Size - Train',\n",
    "        color='blue')"
   ]
  },
  {
   "cell_type": "code",
   "execution_count": 12,
   "id": "97baa9d7",
   "metadata": {},
   "outputs": [
    {
     "data": {
      "text/plain": [
       "<AxesSubplot:title={'center':'Group Size - Test'}>"
      ]
     },
     "execution_count": 12,
     "metadata": {},
     "output_type": "execute_result"
    },
    {
     "data": {
      "image/png": "[encoded data removed]",
      "text/plain": [
       "<Figure size 864x216 with 1 Axes>"
      ]
     },
     "metadata": {
      "needs_background": "light"
     },
     "output_type": "display_data"
    }
   ],
   "source": [
    "test_df['Group_Size'].value_counts(normalize=True).sort_values(ascending=True).plot(kind='barh', \n",
    "        figsize=(12,3),\n",
    "        title='Group Size - Test',\n",
    "        color='green')"
   ]
  },
  {
   "cell_type": "code",
   "execution_count": 13,
   "id": "16183dba",
   "metadata": {},
   "outputs": [
    {
     "data": {
      "text/plain": [
       "<AxesSubplot:title={'center':'Group Size - Transported'}, ylabel='Group_Size'>"
      ]
     },
     "execution_count": 13,
     "metadata": {},
     "output_type": "execute_result"
    },
    {
     "data": {
      "image/png": "[encoded data removed]",
      "text/plain": [
       "<Figure size 864x216 with 1 Axes>"
      ]
     },
     "metadata": {
      "needs_background": "light"
     },
     "output_type": "display_data"
    }
   ],
   "source": [
    "train_df[['Group_Size', 'Transported']].groupby('Group_Size').agg('mean').sort_values('Transported').plot(kind='barh',\n",
    "          figsize=(12,3),\n",
    "          color = 'red',\n",
    "          title='Group Size - Transported')"
   ]
  },
  {
   "cell_type": "markdown",
   "id": "ad058c49",
   "metadata": {},
   "source": [
    "#### Analysis of Group Size\n",
    "- Both train and test datasets show that more than 50% of the transported people are group of 1 person\n",
    "- Group between 2 and 7 peoples have a slightly higher change of being transported then group with 1 or 8 people "
   ]
  },
  {
   "cell_type": "markdown",
   "id": "d2cbffdb",
   "metadata": {},
   "source": [
    "#### Home Planet\n",
    "The planet the passenger departed from, typically their planet of permanent residence."
   ]
  },
  {
   "cell_type": "code",
   "execution_count": 14,
   "id": "8a2ddf32",
   "metadata": {},
   "outputs": [
    {
     "data": {
      "text/plain": [
       "<AxesSubplot:title={'center':'Home Planet - Train'}>"
      ]
     },
     "execution_count": 14,
     "metadata": {},
     "output_type": "execute_result"
    },
    {
     "data": {
      "image/png": "[encoded data removed]",
      "text/plain": [
       "<Figure size 648x216 with 1 Axes>"
      ]
     },
     "metadata": {
      "needs_background": "light"
     },
     "output_type": "display_data"
    }
   ],
   "source": [
    "train_df['HomePlanet'].value_counts(normalize=True).sort_values(ascending=True).plot(kind='barh', \n",
    "        figsize=(9,3),\n",
    "        title='Home Planet - Train',\n",
    "        color='blue')"
   ]
  },
  {
   "cell_type": "code",
   "execution_count": 15,
   "id": "5e0c32d0",
   "metadata": {},
   "outputs": [
    {
     "data": {
      "text/plain": [
       "<AxesSubplot:title={'center':'Home Planet - Test'}>"
      ]
     },
     "execution_count": 15,
     "metadata": {},
     "output_type": "execute_result"
    },
    {
     "data": {
      "image/png": "[encoded data removed]",
      "text/plain": [
       "<Figure size 648x216 with 1 Axes>"
      ]
     },
     "metadata": {
      "needs_background": "light"
     },
     "output_type": "display_data"
    }
   ],
   "source": [
    "test_df['HomePlanet'].value_counts(normalize=True).sort_values(ascending=True).plot(kind='barh', \n",
    "        figsize=(9,3),\n",
    "        title='Home Planet - Test',\n",
    "        color='green')"
   ]
  },
  {
   "cell_type": "code",
   "execution_count": 16,
   "id": "6259fe65",
   "metadata": {},
   "outputs": [
    {
     "data": {
      "text/plain": [
       "<AxesSubplot:title={'center':'Home Planet - Transported'}, ylabel='HomePlanet'>"
      ]
     },
     "execution_count": 16,
     "metadata": {},
     "output_type": "execute_result"
    },
    {
     "data": {
      "image/png": "[encoded data removed]",
      "text/plain": [
       "<Figure size 648x216 with 1 Axes>"
      ]
     },
     "metadata": {
      "needs_background": "light"
     },
     "output_type": "display_data"
    }
   ],
   "source": [
    "train_df[['HomePlanet', 'Transported']].groupby('HomePlanet').agg('mean').sort_values('Transported').plot(kind='barh',\n",
    "          figsize=(9,3),\n",
    "          color = 'red',\n",
    "          title='Home Planet - Transported')"
   ]
  },
  {
   "cell_type": "markdown",
   "id": "aff2e0cb",
   "metadata": {},
   "source": [
    "#### Analysis of Home Planet\n",
    "- Train and Test dataset have very similar distribuition of passangers among Earth (~55%), Europa (~25%), and Mars (~20%)\n",
    "- Most passagengers come from Earth\n",
    "- Passangers from Europa are more likely to be transported (~65%), compared with passangers from Earth (~52%) and Mars (~42%)"
   ]
  },
  {
   "cell_type": "markdown",
   "id": "9dbc4dc2",
   "metadata": {},
   "source": [
    "### CryoSleep"
   ]
  },
  {
   "cell_type": "code",
   "execution_count": null,
   "id": "43d26243",
   "metadata": {},
   "outputs": [],
   "source": []
  },
  {
   "cell_type": "code",
   "execution_count": null,
   "id": "c5d7a43c",
   "metadata": {},
   "outputs": [],
   "source": []
  },
  {
   "cell_type": "code",
   "execution_count": null,
   "id": "a6623418",
   "metadata": {},
   "outputs": [],
   "source": []
  },
  {
   "cell_type": "code",
   "execution_count": null,
   "id": "5da679be",
   "metadata": {},
   "outputs": [],
   "source": []
  },
  {
   "cell_type": "code",
   "execution_count": null,
   "id": "9b8e0d57",
   "metadata": {},
   "outputs": [],
   "source": []
  },
  {
   "cell_type": "code",
   "execution_count": null,
   "id": "f7effdfb",
   "metadata": {},
   "outputs": [],
   "source": []
  },
  {
   "cell_type": "code",
   "execution_count": null,
   "id": "261bcda9",
   "metadata": {},
   "outputs": [],
   "source": []
  },
  {
   "cell_type": "code",
   "execution_count": null,
   "id": "b86da9d4",
   "metadata": {},
   "outputs": [],
   "source": []
  },
  {
   "cell_type": "code",
   "execution_count": null,
   "id": "10662128",
   "metadata": {},
   "outputs": [],
   "source": []
  },
  {
   "cell_type": "code",
   "execution_count": null,
   "id": "80e32b51",
   "metadata": {},
   "outputs": [],
   "source": []
  },
  {
   "cell_type": "code",
   "execution_count": null,
   "id": "a02fa6c0",
   "metadata": {},
   "outputs": [],
   "source": []
  },
  {
   "cell_type": "code",
   "execution_count": null,
   "id": "265a355c",
   "metadata": {},
   "outputs": [],
   "source": []
  },
  {
   "cell_type": "code",
   "execution_count": null,
   "id": "a5d657c5",
   "metadata": {},
   "outputs": [],
   "source": []
  },
  {
   "cell_type": "code",
   "execution_count": null,
   "id": "b5e344f7",
   "metadata": {},
   "outputs": [],
   "source": []
  },
  {
   "cell_type": "markdown",
   "id": "48d995c3",
   "metadata": {},
   "source": [
    "### Quantitative analisys"
   ]
  },
  {
   "cell_type": "code",
   "execution_count": null,
   "id": "c7309303",
   "metadata": {},
   "outputs": [],
   "source": []
  },
  {
   "cell_type": "code",
   "execution_count": null,
   "id": "d69985de",
   "metadata": {},
   "outputs": [],
   "source": []
  },
  {
   "cell_type": "code",
   "execution_count": null,
   "id": "b07fa43d",
   "metadata": {},
   "outputs": [],
   "source": []
  },
  {
   "cell_type": "code",
   "execution_count": null,
   "id": "5a67bd04",
   "metadata": {},
   "outputs": [],
   "source": []
  },
  {
   "cell_type": "code",
   "execution_count": null,
   "id": "b356a471",
   "metadata": {},
   "outputs": [],
   "source": []
  },
  {
   "cell_type": "code",
   "execution_count": null,
   "id": "3bab85e4",
   "metadata": {},
   "outputs": [],
   "source": []
  },
  {
   "cell_type": "markdown",
   "id": "4caa9fd7",
   "metadata": {},
   "source": [
    "### Separate target from predictors"
   ]
  },
  {
   "cell_type": "code",
   "execution_count": 47,
   "id": "5755022d",
   "metadata": {},
   "outputs": [],
   "source": [
    "# Remove rows with missing target\n",
    "X_full.dropna(axis=0, subset=['Transported'], inplace=True) # drop the target column from X_full\n",
    "\n",
    "# Separate target from predictors\n",
    "y = X_full.Transported # make Y the target\n",
    "X_full.drop('Transported', axis=1, inplace=True)"
   ]
  },
  {
   "cell_type": "code",
   "execution_count": 23,
   "id": "e6ab528e",
   "metadata": {},
   "outputs": [],
   "source": [
    "# Quick view on X_full\n",
    "#quick_look(X_full)"
   ]
  },
  {
   "cell_type": "code",
   "execution_count": 24,
   "id": "56db4fa1",
   "metadata": {},
   "outputs": [],
   "source": [
    "# Quick view on X_valid\n",
    "#quick_look(X_valid)"
   ]
  },
  {
   "cell_type": "code",
   "execution_count": 48,
   "id": "3e6d65d2",
   "metadata": {},
   "outputs": [],
   "source": [
    "# Break off validation set from data\n",
    "X_train_full, X_valid_full, y_train, y_valid = train_test_split(X_full, y, train_size=0.8, test_size=0.2, random_state=0)"
   ]
  },
  {
   "cell_type": "markdown",
   "id": "e384a118",
   "metadata": {},
   "source": [
    "#### Numerical and Categorical Columns"
   ]
  },
  {
   "cell_type": "code",
   "execution_count": 49,
   "id": "45415379",
   "metadata": {},
   "outputs": [],
   "source": [
    "# \"Cardinality\" means the number of unique values in a column\n",
    "# Select categorical columns with relatively low cardinality\n",
    "categorical_cols = [cname for cname in X_train_full.columns if\n",
    "                    X_train_full[cname].nunique() < 10 and \n",
    "                    X_train_full[cname].dtype == \"object\"]\n",
    "\n",
    "# Select numerical columns\n",
    "numerical_cols = [cname for cname in X_train_full.columns if \n",
    "                X_train_full[cname].dtype in ['int64', 'float64']]\n",
    "\n",
    "# Keep selected columns only\n",
    "my_cols = categorical_cols + numerical_cols\n",
    "X_train = X_train_full[my_cols].copy()\n",
    "X_valid = X_valid_full[my_cols].copy()\n",
    "X_test = X_test_full[my_cols].copy()"
   ]
  },
  {
   "cell_type": "code",
   "execution_count": 60,
   "id": "24115642",
   "metadata": {},
   "outputs": [
    {
     "data": {
      "text/plain": [
       "['HomePlanet',\n",
       " 'CryoSleep',\n",
       " 'Destination',\n",
       " 'VIP',\n",
       " 'Age',\n",
       " 'RoomService',\n",
       " 'FoodCourt',\n",
       " 'ShoppingMall',\n",
       " 'Spa',\n",
       " 'VRDeck']"
      ]
     },
     "execution_count": 60,
     "metadata": {},
     "output_type": "execute_result"
    }
   ],
   "source": [
    "my_cols\n",
    "#quick_look(X_test)"
   ]
  },
  {
   "cell_type": "markdown",
   "id": "29975685",
   "metadata": {},
   "source": [
    "#### Preprocessing Numerical and Categorical Data"
   ]
  },
  {
   "cell_type": "code",
   "execution_count": 55,
   "id": "dcd9ff4c",
   "metadata": {},
   "outputs": [
    {
     "name": "stdout",
     "output_type": "stream",
     "text": [
      "MAE: 0.2861837679871813\n"
     ]
    }
   ],
   "source": [
    "from sklearn.compose import ColumnTransformer\n",
    "from sklearn.pipeline import Pipeline\n",
    "from sklearn.impute import SimpleImputer\n",
    "from sklearn.preprocessing import OneHotEncoder\n",
    "from sklearn.ensemble import RandomForestRegressor\n",
    "from sklearn.metrics import mean_absolute_error\n",
    "\n",
    "# Preprocessing for numerical data\n",
    "numerical_transformer = SimpleImputer(strategy='constant')\n",
    "\n",
    "# Preprocessing for categorical data\n",
    "categorical_transformer = Pipeline(steps=[\n",
    "    ('imputer', SimpleImputer(strategy='most_frequent')),\n",
    "    ('onehot', OneHotEncoder(handle_unknown='ignore'))\n",
    "])\n",
    "\n",
    "# Bundle preprocessing for numerical and categorical data\n",
    "preprocessor = ColumnTransformer(\n",
    "    transformers=[\n",
    "        ('num', numerical_transformer, numerical_cols),\n",
    "        ('cat', categorical_transformer, categorical_cols)\n",
    "    ])\n",
    "\n",
    "# Define model\n",
    "model = RandomForestRegressor(n_estimators=100, random_state=0)\n",
    "\n",
    "# Bundle preprocessing and modeling code in a pipeline\n",
    "clf = Pipeline(steps=[('preprocessor', preprocessor),\n",
    "                      ('model', model)\n",
    "                     ])\n",
    "\n",
    "# Preprocessing of training data, fit model \n",
    "clf.fit(X_train, y_train)\n",
    "\n",
    "# Preprocessing of validation data, get predictions\n",
    "preds = clf.predict(X_valid)\n",
    "\n",
    "print('MAE:', mean_absolute_error(y_valid, preds))"
   ]
  },
  {
   "cell_type": "code",
   "execution_count": 58,
   "id": "38e71ace",
   "metadata": {},
   "outputs": [],
   "source": [
    "# Preprocessing of test data, fit model\n",
    "preds_test = clf.predict(X_test)"
   ]
  },
  {
   "cell_type": "markdown",
   "id": "8a12a3a3",
   "metadata": {},
   "source": [
    "#### Save test predictions to file"
   ]
  },
  {
   "cell_type": "code",
   "execution_count": 68,
   "id": "6d937b09",
   "metadata": {},
   "outputs": [],
   "source": [
    "# Save test predictions to file\n",
    "output = pd.DataFrame({'PassengerId': X_test_full.PassengerId,\n",
    "                       'Transported': preds_test})\n",
    "output.to_csv('submission.csv', index=False)"
   ]
  },
  {
   "cell_type": "code",
   "execution_count": null,
   "id": "c3e96566",
   "metadata": {},
   "outputs": [],
   "source": []
  },
  {
   "cell_type": "code",
   "execution_count": null,
   "id": "86c00b0d",
   "metadata": {},
   "outputs": [],
   "source": []
  },
  {
   "cell_type": "code",
   "execution_count": null,
   "id": "60567d74",
   "metadata": {},
   "outputs": [],
   "source": []
  },
  {
   "cell_type": "code",
   "execution_count": null,
   "id": "e6f6d085",
   "metadata": {},
   "outputs": [],
   "source": []
  },
  {
   "cell_type": "code",
   "execution_count": null,
   "id": "e891b037",
   "metadata": {},
   "outputs": [],
   "source": []
  },
  {
   "cell_type": "code",
   "execution_count": null,
   "id": "c6d999e8",
   "metadata": {},
   "outputs": [],
   "source": []
  },
  {
   "cell_type": "code",
   "execution_count": null,
   "id": "f1e84532",
   "metadata": {},
   "outputs": [],
   "source": []
  },
  {
   "cell_type": "code",
   "execution_count": null,
   "id": "b94f1c87",
   "metadata": {},
   "outputs": [],
   "source": []
  },
  {
   "cell_type": "code",
   "execution_count": null,
   "id": "0058519d",
   "metadata": {},
   "outputs": [],
   "source": []
  },
  {
   "cell_type": "code",
   "execution_count": null,
   "id": "38b62325",
   "metadata": {},
   "outputs": [],
   "source": []
  },
  {
   "cell_type": "code",
   "execution_count": null,
   "id": "9acb8efa",
   "metadata": {},
   "outputs": [],
   "source": []
  },
  {
   "cell_type": "code",
   "execution_count": null,
   "id": "00939305",
   "metadata": {},
   "outputs": [],
   "source": []
  },
  {
   "cell_type": "code",
   "execution_count": null,
   "id": "1cf9f8a1",
   "metadata": {},
   "outputs": [],
   "source": []
  },
  {
   "cell_type": "code",
   "execution_count": null,
   "id": "bf5f0213",
   "metadata": {},
   "outputs": [],
   "source": []
  },
  {
   "cell_type": "code",
   "execution_count": null,
   "id": "1cad7f70",
   "metadata": {},
   "outputs": [],
   "source": []
  },
  {
   "cell_type": "code",
   "execution_count": null,
   "id": "a7c9f179",
   "metadata": {},
   "outputs": [],
   "source": []
  },
  {
   "cell_type": "markdown",
   "id": "d49cb794",
   "metadata": {},
   "source": [
    "# IGNORE BELOW"
   ]
  },
  {
   "cell_type": "markdown",
   "id": "93dc9b6f",
   "metadata": {},
   "source": [
    "#### Numerical Columns - Drop columns with categorical data"
   ]
  },
  {
   "cell_type": "code",
   "execution_count": 26,
   "id": "ff12b684",
   "metadata": {},
   "outputs": [],
   "source": [
    "drop_X_train = X_train.select_dtypes(exclude=['object'])\n",
    "drop_X_valid = X_valid.select_dtypes(exclude=['object'])"
   ]
  },
  {
   "cell_type": "code",
   "execution_count": 27,
   "id": "55f1349d",
   "metadata": {},
   "outputs": [
    {
     "name": "stdout",
     "output_type": "stream",
     "text": [
      "\u001b[2m\u001b[1m\u001b[34mSIZE\u001b[0m\n",
      "41724\n",
      "\u001b[2m\u001b[1m\u001b[34m\n",
      "SHAPE\u001b[0m\n",
      "(6954, 6)\n",
      "\u001b[2m\u001b[1m\u001b[34m\n",
      "INFO\u001b[0m\n",
      "<class 'pandas.core.frame.DataFrame'>\n",
      "Int64Index: 6954 entries, 4278 to 2732\n",
      "Data columns (total 6 columns):\n",
      " #   Column        Non-Null Count  Dtype  \n",
      "---  ------        --------------  -----  \n",
      " 0   Age           6808 non-null   float64\n",
      " 1   RoomService   6803 non-null   float64\n",
      " 2   FoodCourt     6806 non-null   float64\n",
      " 3   ShoppingMall  6782 non-null   float64\n",
      " 4   Spa           6802 non-null   float64\n",
      " 5   VRDeck        6808 non-null   float64\n",
      "dtypes: float64(6)\n",
      "memory usage: 380.3 KB\n",
      "None\n",
      "\u001b[2m\u001b[1m\u001b[34m\n",
      "NULL VALUES\u001b[0m\n",
      "Age             146\n",
      "RoomService     151\n",
      "FoodCourt       148\n",
      "ShoppingMall    172\n",
      "Spa             152\n",
      "VRDeck          146\n",
      "dtype: int64\n",
      "\u001b[2m\u001b[1m\u001b[34m\n",
      "HEAD\u001b[0m\n",
      "       Age  RoomService  FoodCourt  ShoppingMall      Spa  VRDeck\n",
      "4278  54.0          0.0      559.0           0.0  15238.0  2799.0\n",
      "5971  20.0          0.0       20.0           1.0    696.0     0.0\n",
      "464   43.0       1821.0        0.0          47.0     29.0     0.0\n",
      "4475  24.0        185.0        0.0         476.0   1810.0    53.0\n",
      "8469  25.0          0.0        0.0           0.0      0.0     0.0\n",
      "\u001b[2m\u001b[1m\u001b[34m\n",
      "DESCRIBE\u001b[0m\n",
      "               Age   RoomService     FoodCourt  ShoppingMall           Spa  \\\n",
      "count  6808.000000   6803.000000   6806.000000   6782.000000   6802.000000   \n",
      "mean     28.872944    232.871380    454.277255    179.915217    308.785798   \n",
      "std      14.481302    691.501507   1587.206812    639.275102   1121.184428   \n",
      "min       0.000000      0.000000      0.000000      0.000000      0.000000   \n",
      "25%      19.000000      0.000000      0.000000      0.000000      0.000000   \n",
      "50%      27.000000      0.000000      0.000000      0.000000      0.000000   \n",
      "75%      38.000000     54.000000     75.000000     28.000000     59.000000   \n",
      "max      79.000000  14327.000000  27723.000000  23492.000000  18572.000000   \n",
      "\n",
      "             VRDeck  \n",
      "count   6808.000000  \n",
      "mean     302.280699  \n",
      "std     1139.835194  \n",
      "min        0.000000  \n",
      "25%        0.000000  \n",
      "50%        0.000000  \n",
      "75%       46.000000  \n",
      "max    24133.000000  \n",
      "\u001b[2m\u001b[1m\u001b[34m\n",
      "UNIQUE ENTRIES IN EACH COLUMN\u001b[0m\n",
      "[]\n"
     ]
    }
   ],
   "source": [
    "quick_look(drop_X_train)"
   ]
  },
  {
   "cell_type": "markdown",
   "id": "747f4bfa",
   "metadata": {},
   "source": [
    "#### Missing values in numerical variables - Imputation "
   ]
  },
  {
   "cell_type": "code",
   "execution_count": 28,
   "id": "bc32340d",
   "metadata": {},
   "outputs": [
    {
     "ename": "NameError",
     "evalue": "name 'imputer' is not defined",
     "output_type": "error",
     "traceback": [
      "\u001b[1;31m---------------------------------------------------------------------------\u001b[0m",
      "\u001b[1;31mNameError\u001b[0m                                 Traceback (most recent call last)",
      "\u001b[1;32m~\\AppData\\Local\\Temp\\ipykernel_9980\\3114147796.py\u001b[0m in \u001b[0;36m<module>\u001b[1;34m\u001b[0m\n\u001b[0;32m      2\u001b[0m \u001b[0mmy_imputer\u001b[0m \u001b[1;33m=\u001b[0m \u001b[0mSimpleImputer\u001b[0m\u001b[1;33m(\u001b[0m\u001b[0mstrategy\u001b[0m\u001b[1;33m=\u001b[0m\u001b[1;34m\"median\"\u001b[0m\u001b[1;33m)\u001b[0m\u001b[1;33m\u001b[0m\u001b[1;33m\u001b[0m\u001b[0m\n\u001b[0;32m      3\u001b[0m \u001b[1;33m\u001b[0m\u001b[0m\n\u001b[1;32m----> 4\u001b[1;33m \u001b[0mimputed_x_train\u001b[0m \u001b[1;33m=\u001b[0m \u001b[0mpd\u001b[0m\u001b[1;33m.\u001b[0m\u001b[0mDataFrame\u001b[0m\u001b[1;33m(\u001b[0m\u001b[0mimputer\u001b[0m\u001b[1;33m.\u001b[0m\u001b[0mfit_transform\u001b[0m\u001b[1;33m(\u001b[0m\u001b[0mdrop_X_train\u001b[0m\u001b[1;33m)\u001b[0m\u001b[1;33m)\u001b[0m\u001b[1;33m\u001b[0m\u001b[1;33m\u001b[0m\u001b[0m\n\u001b[0m\u001b[0;32m      5\u001b[0m \u001b[0mimputed_x_valid\u001b[0m \u001b[1;33m=\u001b[0m \u001b[0mpd\u001b[0m\u001b[1;33m.\u001b[0m\u001b[0mDataFrame\u001b[0m\u001b[1;33m(\u001b[0m\u001b[0mimputer\u001b[0m\u001b[1;33m.\u001b[0m\u001b[0mtransform\u001b[0m\u001b[1;33m(\u001b[0m\u001b[0mdrop_X_valid\u001b[0m\u001b[1;33m)\u001b[0m\u001b[1;33m)\u001b[0m\u001b[1;33m\u001b[0m\u001b[1;33m\u001b[0m\u001b[0m\n\u001b[0;32m      6\u001b[0m \u001b[1;33m\u001b[0m\u001b[0m\n",
      "\u001b[1;31mNameError\u001b[0m: name 'imputer' is not defined"
     ]
    }
   ],
   "source": [
    "# Imputation\n",
    "my_imputer = SimpleImputer(strategy=\"median\")\n",
    "\n",
    "imputed_x_train = pd.DataFrame(imputer.fit_transform(drop_X_train))\n",
    "imputed_x_valid = pd.DataFrame(imputer.transform(drop_X_valid))\n",
    "\n",
    "# Fill in the lines below: imputation removed column names; put them back\n",
    "imputed_x_train.columns = drop_X_train.columns\n",
    "imputed_x_valid.columns = drop_X_valid.columns"
   ]
  },
  {
   "cell_type": "code",
   "execution_count": 29,
   "id": "358050a4",
   "metadata": {},
   "outputs": [
    {
     "ename": "NameError",
     "evalue": "name 'imputed_x_train' is not defined",
     "output_type": "error",
     "traceback": [
      "\u001b[1;31m---------------------------------------------------------------------------\u001b[0m",
      "\u001b[1;31mNameError\u001b[0m                                 Traceback (most recent call last)",
      "\u001b[1;32m~\\AppData\\Local\\Temp\\ipykernel_9980\\668561541.py\u001b[0m in \u001b[0;36m<module>\u001b[1;34m\u001b[0m\n\u001b[1;32m----> 1\u001b[1;33m \u001b[0mquick_look\u001b[0m\u001b[1;33m(\u001b[0m\u001b[0mimputed_x_train\u001b[0m\u001b[1;33m)\u001b[0m\u001b[1;33m\u001b[0m\u001b[1;33m\u001b[0m\u001b[0m\n\u001b[0m",
      "\u001b[1;31mNameError\u001b[0m: name 'imputed_x_train' is not defined"
     ]
    }
   ],
   "source": [
    "quick_look(imputed_x_train)"
   ]
  },
  {
   "cell_type": "markdown",
   "id": "e936e65a",
   "metadata": {},
   "source": [
    "#### Categorical columns - Ordinal Encoder"
   ]
  },
  {
   "cell_type": "code",
   "execution_count": 34,
   "id": "213f9f7f",
   "metadata": {},
   "outputs": [
    {
     "name": "stdout",
     "output_type": "stream",
     "text": [
      "Categorical columns that will be ordinal encoded: ['HomePlanet', 'CryoSleep', 'Destination', 'VIP']\n",
      "\n",
      "Categorical columns that will be dropped from the dataset: ['Cabin', 'PassengerId', 'Name']\n"
     ]
    }
   ],
   "source": [
    "# Categorical columns in the training data\n",
    "object_cols = [col for col in X_train.columns if X_train[col].dtype == \"object\"]\n",
    "\n",
    "# Columns that can be safely ordinal encoded\n",
    "good_label_cols = [col for col in object_cols if \n",
    "                   set(X_valid[col]).issubset(set(X_train[col]))]\n",
    "\n",
    "# Problematic columns that will be dropped from the dataset\n",
    "bad_label_cols = list(set(object_cols)-set(good_label_cols))\n",
    "        \n",
    "print('Categorical columns that will be ordinal encoded:', good_label_cols)\n",
    "print('\\nCategorical columns that will be dropped from the dataset:', bad_label_cols)"
   ]
  },
  {
   "cell_type": "code",
   "execution_count": 36,
   "id": "0b13efff",
   "metadata": {},
   "outputs": [],
   "source": [
    "from sklearn.preprocessing import OrdinalEncoder\n",
    "\n",
    "# Drop categorical columns that will not be encoded\n",
    "label_X_train = X_train.drop(bad_label_cols, axis=1)\n",
    "label_X_valid = X_valid.drop(bad_label_cols, axis=1)\n",
    "\n",
    "# Apply ordinal encoder \n",
    "ordinal_encoder = OrdinalEncoder() \n",
    "label_X_train[good_label_cols] = ordinal_encoder.fit_transform(X_train[good_label_cols])\n",
    "label_X_valid[good_label_cols] = ordinal_encoder.transform(X_valid[good_label_cols])"
   ]
  },
  {
   "cell_type": "code",
   "execution_count": null,
   "id": "e3593607",
   "metadata": {},
   "outputs": [],
   "source": []
  },
  {
   "cell_type": "code",
   "execution_count": 35,
   "id": "8608e230",
   "metadata": {},
   "outputs": [
    {
     "name": "stdout",
     "output_type": "stream",
     "text": [
      "\u001b[2m\u001b[1m\u001b[34mSIZE\u001b[0m\n"
     ]
    },
    {
     "ename": "AttributeError",
     "evalue": "'list' object has no attribute 'size'",
     "output_type": "error",
     "traceback": [
      "\u001b[1;31m---------------------------------------------------------------------------\u001b[0m",
      "\u001b[1;31mAttributeError\u001b[0m                            Traceback (most recent call last)",
      "\u001b[1;32m~\\AppData\\Local\\Temp\\ipykernel_9980\\820150131.py\u001b[0m in \u001b[0;36m<module>\u001b[1;34m\u001b[0m\n\u001b[1;32m----> 1\u001b[1;33m \u001b[0mquick_look\u001b[0m\u001b[1;33m(\u001b[0m\u001b[0mgood_label_cols\u001b[0m\u001b[1;33m)\u001b[0m\u001b[1;33m\u001b[0m\u001b[1;33m\u001b[0m\u001b[0m\n\u001b[0m",
      "\u001b[1;32m~\\AppData\\Local\\Temp\\ipykernel_9980\\3405639797.py\u001b[0m in \u001b[0;36mquick_look\u001b[1;34m(df)\u001b[0m\n\u001b[0;32m      2\u001b[0m \u001b[1;32mdef\u001b[0m \u001b[0mquick_look\u001b[0m\u001b[1;33m(\u001b[0m\u001b[0mdf\u001b[0m\u001b[1;33m)\u001b[0m\u001b[1;33m:\u001b[0m\u001b[1;33m\u001b[0m\u001b[1;33m\u001b[0m\u001b[0m\n\u001b[0;32m      3\u001b[0m     \u001b[0mprint\u001b[0m\u001b[1;33m(\u001b[0m\u001b[0mcolored\u001b[0m\u001b[1;33m(\u001b[0m\u001b[1;34m'SIZE'\u001b[0m \u001b[1;33m,\u001b[0m \u001b[1;34m'blue'\u001b[0m\u001b[1;33m,\u001b[0m \u001b[0mattrs\u001b[0m\u001b[1;33m=\u001b[0m\u001b[1;33m[\u001b[0m\u001b[1;34m'bold'\u001b[0m\u001b[1;33m,\u001b[0m \u001b[1;34m'dark'\u001b[0m\u001b[1;33m]\u001b[0m\u001b[1;33m)\u001b[0m\u001b[1;33m)\u001b[0m\u001b[1;33m\u001b[0m\u001b[1;33m\u001b[0m\u001b[0m\n\u001b[1;32m----> 4\u001b[1;33m     \u001b[0mprint\u001b[0m\u001b[1;33m(\u001b[0m\u001b[0mdf\u001b[0m\u001b[1;33m.\u001b[0m\u001b[0msize\u001b[0m\u001b[1;33m)\u001b[0m\u001b[1;33m\u001b[0m\u001b[1;33m\u001b[0m\u001b[0m\n\u001b[0m\u001b[0;32m      5\u001b[0m     \u001b[0mprint\u001b[0m\u001b[1;33m(\u001b[0m\u001b[0mcolored\u001b[0m\u001b[1;33m(\u001b[0m\u001b[1;34m'\\nSHAPE'\u001b[0m \u001b[1;33m,\u001b[0m \u001b[1;34m'blue'\u001b[0m\u001b[1;33m,\u001b[0m \u001b[0mattrs\u001b[0m\u001b[1;33m=\u001b[0m\u001b[1;33m[\u001b[0m\u001b[1;34m'bold'\u001b[0m\u001b[1;33m,\u001b[0m \u001b[1;34m'dark'\u001b[0m\u001b[1;33m]\u001b[0m\u001b[1;33m)\u001b[0m\u001b[1;33m)\u001b[0m\u001b[1;33m\u001b[0m\u001b[1;33m\u001b[0m\u001b[0m\n\u001b[0;32m      6\u001b[0m     \u001b[0mprint\u001b[0m\u001b[1;33m(\u001b[0m\u001b[0mdf\u001b[0m\u001b[1;33m.\u001b[0m\u001b[0mshape\u001b[0m\u001b[1;33m)\u001b[0m\u001b[1;33m\u001b[0m\u001b[1;33m\u001b[0m\u001b[0m\n",
      "\u001b[1;31mAttributeError\u001b[0m: 'list' object has no attribute 'size'"
     ]
    }
   ],
   "source": [
    "quick_look(good_label_cols)"
   ]
  },
  {
   "cell_type": "code",
   "execution_count": null,
   "id": "015434ef",
   "metadata": {},
   "outputs": [],
   "source": []
  },
  {
   "cell_type": "markdown",
   "id": "0dfb1728",
   "metadata": {},
   "source": [
    "#### Vizualizing the data"
   ]
  },
  {
   "cell_type": "code",
   "execution_count": 106,
   "id": "3869536f",
   "metadata": {},
   "outputs": [],
   "source": [
    "def vizualize_hist(df):\n",
    "    for column in df:\n",
    "        if df[column].dtype == \"object\":\n",
    "            pass\n",
    "        else:\n",
    "            df[column] = df[column].replace({0:np.nan})\n",
    "            pylab.figure()\n",
    "            pylab.hist(df[column][~np.isnan(df[column])], bins=50, main=colnames(df[[column]]))\n",
    "            pylab.show()\n"
   ]
  },
  {
   "cell_type": "code",
   "execution_count": 163,
   "id": "c2e7587b",
   "metadata": {},
   "outputs": [],
   "source": [
    "#vizualize_hist(test_df)"
   ]
  },
  {
   "cell_type": "code",
   "execution_count": null,
   "id": "5ed303d8",
   "metadata": {},
   "outputs": [],
   "source": []
  },
  {
   "cell_type": "markdown",
   "id": "b71951eb",
   "metadata": {},
   "source": [
    "### Tests"
   ]
  },
  {
   "cell_type": "code",
   "execution_count": 222,
   "id": "dfce4085",
   "metadata": {},
   "outputs": [],
   "source": [
    "# Function for comparing different aproches\n",
    "def score_dataset(X_train, X_valid, y_train, y_valid):\n",
    "    model = RandomForestRegressor(n_estimators=100, random_state=0)\n",
    "    model.fit(X_train, y_train)\n",
    "    preds = model.predict(X_valid)\n",
    "    return mean_absolute_error(y_valid, preds)"
   ]
  },
  {
   "cell_type": "code",
   "execution_count": 230,
   "id": "ab06a3b5",
   "metadata": {},
   "outputs": [
    {
     "name": "stdout",
     "output_type": "stream",
     "text": [
      "MAE - Aproach 1 (Drop categorical variables + Imputation):\n",
      "0.3155578390619056\n"
     ]
    }
   ],
   "source": [
    "print(\"MAE - Aproach 1 (Drop categorical variables + Imputation):\")\n",
    "print(score_dataset(imputed_x_train, imputed_x_valid, y_train, y_valid))"
   ]
  },
  {
   "cell_type": "code",
   "execution_count": null,
   "id": "2259880a",
   "metadata": {},
   "outputs": [],
   "source": []
  },
  {
   "cell_type": "code",
   "execution_count": null,
   "id": "592b111b",
   "metadata": {},
   "outputs": [],
   "source": []
  },
  {
   "cell_type": "code",
   "execution_count": null,
   "id": "4a1f2ea3",
   "metadata": {},
   "outputs": [],
   "source": []
  },
  {
   "cell_type": "code",
   "execution_count": null,
   "id": "50b6f49c",
   "metadata": {},
   "outputs": [],
   "source": []
  },
  {
   "cell_type": "code",
   "execution_count": null,
   "id": "4b9c7d5e",
   "metadata": {},
   "outputs": [],
   "source": []
  },
  {
   "cell_type": "code",
   "execution_count": null,
   "id": "1ce5cb8d",
   "metadata": {},
   "outputs": [],
   "source": []
  },
  {
   "cell_type": "code",
   "execution_count": null,
   "id": "55f65996",
   "metadata": {},
   "outputs": [],
   "source": []
  }
 ],
 "metadata": {
  "kernelspec": {
   "display_name": "Python 3 (ipykernel)",
   "language": "python",
   "name": "python3"
  },
  "language_info": {
   "codemirror_mode": {
    "name": "ipython",
    "version": 3
   },
   "file_extension": ".py",
   "mimetype": "text/x-python",
   "name": "python",
   "nbconvert_exporter": "python",
   "pygments_lexer": "ipython3",
   "version": "3.7.13"
  }
 },
 "nbformat": 4,
 "nbformat_minor": 5
}
